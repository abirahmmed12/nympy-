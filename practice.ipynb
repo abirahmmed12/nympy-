{
 "cells": [
  {
   "cell_type": "raw",
   "id": "7bcd54b5-f59e-43fd-9a3a-938c78d76770",
   "metadata": {},
   "source": []
  },
  {
   "cell_type": "code",
   "execution_count": 1,
   "id": "d683c1cb-54e5-4a2e-88ba-ae3c14602584",
   "metadata": {},
   "outputs": [],
   "source": [
    "import numpy as np\n"
   ]
  },
  {
   "cell_type": "code",
   "execution_count": 3,
   "id": "fc5a0976-249f-4674-90a0-9d795eb8487d",
   "metadata": {},
   "outputs": [
    {
     "name": "stdout",
     "output_type": "stream",
     "text": [
      "44.25\n"
     ]
    }
   ],
   "source": [
    "array=np.array([23,45,54,55])\n",
    "result=np.mean(array)\n",
    "print(result)"
   ]
  },
  {
   "cell_type": "code",
   "execution_count": 12,
   "id": "2cbb1cdb-3e44-44d0-885e-3c40507c457b",
   "metadata": {},
   "outputs": [
    {
     "data": {
      "text/plain": [
       "array([[0., 0., 0., 0., 0.],\n",
       "       [0., 0., 0., 0., 0.],\n",
       "       [0., 0., 0., 0., 0.]])"
      ]
     },
     "execution_count": 12,
     "metadata": {},
     "output_type": "execute_result"
    }
   ],
   "source": [
    "value=np.array([2,3,45,5])\n",
    "zero=np.zeros((3,5))\n",
    "zero"
   ]
  },
  {
   "cell_type": "code",
   "execution_count": 15,
   "id": "76714f1e-34fe-4fdb-a6a3-6a607b1049e2",
   "metadata": {},
   "outputs": [
    {
     "name": "stdout",
     "output_type": "stream",
     "text": [
      "[[10 10 10 10]\n",
      " [10 10 10 10]\n",
      " [10 10 10 10]]\n"
     ]
    }
   ],
   "source": [
    "fulll_method=np.full((3,4),10)\n",
    "print(fulll_method)"
   ]
  },
  {
   "cell_type": "code",
   "execution_count": 19,
   "id": "9ceda13f-1799-4938-b3c9-96a59429c95c",
   "metadata": {},
   "outputs": [
    {
     "data": {
      "text/plain": [
       "array([1, 3, 5, 7, 9])"
      ]
     },
     "execution_count": 19,
     "metadata": {},
     "output_type": "execute_result"
    }
   ],
   "source": [
    "arange_method=np.arange(1,10,2)\n",
    "arange_method"
   ]
  },
  {
   "cell_type": "code",
   "execution_count": 22,
   "id": "c23b4c40-2c83-4b64-8f1c-1bd8e1a46199",
   "metadata": {},
   "outputs": [
    {
     "data": {
      "text/plain": [
       "array([[1., 0., 0.],\n",
       "       [0., 1., 0.],\n",
       "       [0., 0., 1.]])"
      ]
     },
     "execution_count": 22,
     "metadata": {},
     "output_type": "execute_result"
    }
   ],
   "source": [
    "identity_metrix=np.eye(3)\n",
    "identity_metrix"
   ]
  },
  {
   "cell_type": "code",
   "execution_count": 17,
   "id": "30ef489b-c97c-409b-8366-b0674b8c687c",
   "metadata": {},
   "outputs": [
    {
     "name": "stdout",
     "output_type": "stream",
     "text": [
      "float64\n"
     ]
    }
   ],
   "source": [
    "random_value=np.random.rand(3,3)\n",
    "print(random_value.dtype)\n"
   ]
  },
  {
   "cell_type": "code",
   "execution_count": 19,
   "id": "a7616c95-5775-40b0-aefb-537ef7bf202c",
   "metadata": {},
   "outputs": [
    {
     "name": "stdout",
     "output_type": "stream",
     "text": [
      "int64\n",
      "[12 33 44 23 56]\n"
     ]
    }
   ],
   "source": [
    "arr_list=np.array([12.5 ,33.6,44.4,23.7,56.6])\n",
    "convert_type=arr_list.astype(int)\n",
    "print(convert_type.dtype)\n",
    "print(convert_type)\n"
   ]
  },
  {
   "cell_type": "code",
   "execution_count": 25,
   "id": "cf751b37-50c1-486e-a448-bccbcbfadc0b",
   "metadata": {},
   "outputs": [
    {
     "name": "stdout",
     "output_type": "stream",
     "text": [
      "309\n",
      "11\n",
      "78\n",
      "44.14\n",
      "21.944270787797056\n",
      "481.55102040816325\n"
     ]
    }
   ],
   "source": [
    "array=np.array([34,54,65,78,45,11,22])\n",
    "print(np.sum(array))\n",
    "print(np.min(array))\n",
    "print(np.max(array))\n",
    "print(round(np.mean(array),2))\n",
    "print(np.std(array))\n",
    "print(np.var(array))\n"
   ]
  },
  {
   "cell_type": "code",
   "execution_count": null,
   "id": "3fc5c4f3-73b5-4430-9b5b-c4a5fc151d8d",
   "metadata": {},
   "outputs": [],
   "source": [
    "#indexing and slicing"
   ]
  },
  {
   "cell_type": "code",
   "execution_count": 33,
   "id": "4a4b7223-a878-476b-a0f2-10235d331c9a",
   "metadata": {},
   "outputs": [
    {
     "ename": "SyntaxError",
     "evalue": "invalid syntax (1019329807.py, line 3)",
     "output_type": "error",
     "traceback": [
      "  \u001b[36mCell\u001b[39m\u001b[36m \u001b[39m\u001b[32mIn[33]\u001b[39m\u001b[32m, line 3\u001b[39m\n\u001b[31m    \u001b[39m\u001b[31marray([1:4])\u001b[39m\n            ^\n\u001b[31mSyntaxError\u001b[39m\u001b[31m:\u001b[39m invalid syntax\n"
     ]
    }
   ],
   "source": [
    "array=np.array([34,76,56,45,90])\n",
    "\n",
    "array([1:4])"
   ]
  },
  {
   "cell_type": "code",
   "execution_count": null,
   "id": "78a24652-9871-4af6-a5c2-356e43a28151",
   "metadata": {},
   "outputs": [],
   "source": []
  }
 ],
 "metadata": {
  "kernelspec": {
   "display_name": "Python 3 (ipykernel)",
   "language": "python",
   "name": "python3"
  },
  "language_info": {
   "codemirror_mode": {
    "name": "ipython",
    "version": 3
   },
   "file_extension": ".py",
   "mimetype": "text/x-python",
   "name": "python",
   "nbconvert_exporter": "python",
   "pygments_lexer": "ipython3",
   "version": "3.12.3"
  }
 },
 "nbformat": 4,
 "nbformat_minor": 5
}
