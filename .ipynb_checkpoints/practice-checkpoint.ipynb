{
 "cells": [
  {
   "cell_type": "code",
   "execution_count": 1,
   "id": "d683c1cb-54e5-4a2e-88ba-ae3c14602584",
   "metadata": {},
   "outputs": [],
   "source": [
    "import numpy as np\n"
   ]
  },
  {
   "cell_type": "code",
   "execution_count": 3,
   "id": "fc5a0976-249f-4674-90a0-9d795eb8487d",
   "metadata": {},
   "outputs": [
    {
     "name": "stdout",
     "output_type": "stream",
     "text": [
      "44.25\n"
     ]
    }
   ],
   "source": [
    "array=np.array([23,45,54,55])\n",
    "result=np.mean(array)\n",
    "print(result)"
   ]
  },
  {
   "cell_type": "code",
   "execution_count": 12,
   "id": "2cbb1cdb-3e44-44d0-885e-3c40507c457b",
   "metadata": {},
   "outputs": [
    {
     "data": {
      "text/plain": [
       "array([[0., 0., 0., 0., 0.],\n",
       "       [0., 0., 0., 0., 0.],\n",
       "       [0., 0., 0., 0., 0.]])"
      ]
     },
     "execution_count": 12,
     "metadata": {},
     "output_type": "execute_result"
    }
   ],
   "source": [
    "value=np.array([2,3,45,5])\n",
    "zero=np.zeros((3,5))\n",
    "zero"
   ]
  },
  {
   "cell_type": "code",
   "execution_count": 15,
   "id": "76714f1e-34fe-4fdb-a6a3-6a607b1049e2",
   "metadata": {},
   "outputs": [
    {
     "name": "stdout",
     "output_type": "stream",
     "text": [
      "[[10 10 10 10]\n",
      " [10 10 10 10]\n",
      " [10 10 10 10]]\n"
     ]
    }
   ],
   "source": [
    "fulll_method=np.full((3,4),10)\n",
    "print(fulll_method)"
   ]
  },
  {
   "cell_type": "code",
   "execution_count": 19,
   "id": "9ceda13f-1799-4938-b3c9-96a59429c95c",
   "metadata": {},
   "outputs": [
    {
     "data": {
      "text/plain": [
       "array([1, 3, 5, 7, 9])"
      ]
     },
     "execution_count": 19,
     "metadata": {},
     "output_type": "execute_result"
    }
   ],
   "source": [
    "arange_method=np.arange(1,10,2)\n",
    "arange_method"
   ]
  },
  {
   "cell_type": "code",
   "execution_count": 22,
   "id": "c23b4c40-2c83-4b64-8f1c-1bd8e1a46199",
   "metadata": {},
   "outputs": [
    {
     "data": {
      "text/plain": [
       "array([[1., 0., 0.],\n",
       "       [0., 1., 0.],\n",
       "       [0., 0., 1.]])"
      ]
     },
     "execution_count": 22,
     "metadata": {},
     "output_type": "execute_result"
    }
   ],
   "source": [
    "identity_metrix=np.eye(3)\n",
    "identity_metrix"
   ]
  },
  {
   "cell_type": "code",
   "execution_count": null,
   "id": "30ef489b-c97c-409b-8366-b0674b8c687c",
   "metadata": {},
   "outputs": [],
   "source": []
  }
 ],
 "metadata": {
  "kernelspec": {
   "display_name": "Python 3 (ipykernel)",
   "language": "python",
   "name": "python3"
  },
  "language_info": {
   "codemirror_mode": {
    "name": "ipython",
    "version": 3
   },
   "file_extension": ".py",
   "mimetype": "text/x-python",
   "name": "python",
   "nbconvert_exporter": "python",
   "pygments_lexer": "ipython3",
   "version": "3.12.3"
  }
 },
 "nbformat": 4,
 "nbformat_minor": 5
}
